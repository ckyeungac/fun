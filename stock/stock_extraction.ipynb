{
 "cells": [
  {
   "cell_type": "markdown",
   "metadata": {},
   "source": [
    "# Extract Stock Information using Selenium"
   ]
  },
  {
   "cell_type": "code",
   "execution_count": 1,
   "metadata": {},
   "outputs": [
    {
     "name": "stdout",
     "output_type": "stream",
     "text": [
      "2.0.11\n"
     ]
    },
    {
     "name": "stderr",
     "output_type": "stream",
     "text": [
      "/Users/ckyeungac/anaconda/envs/stock/lib/python3.6/site-packages/IPython/html.py:14: ShimWarning:\n",
      "\n",
      "The `IPython.html` package has been deprecated since IPython 4.0. You should import from `notebook` instead. `IPython.html.widgets` has moved to `ipywidgets`.\n",
      "\n"
     ]
    },
    {
     "data": {
      "text/html": [
       "<script>requirejs.config({paths: { 'plotly': ['https://cdn.plot.ly/plotly-latest.min']},});if(!window.Plotly) {{require(['plotly'],function(plotly) {window.Plotly=plotly;});}}</script>"
      ],
      "text/vnd.plotly.v1+html": [
       "<script>requirejs.config({paths: { 'plotly': ['https://cdn.plot.ly/plotly-latest.min']},});if(!window.Plotly) {{require(['plotly'],function(plotly) {window.Plotly=plotly;});}}</script>"
      ]
     },
     "metadata": {},
     "output_type": "display_data"
    }
   ],
   "source": [
    "from selenium import webdriver\n",
    "import time\n",
    "import sys, os\n",
    "from collections import namedtuple\n",
    "from collections import deque\n",
    "import time\n",
    "import datetime\n",
    "import numpy as np\n",
    "from threading import Thread\n",
    "\n",
    "# used for ploting the candle plot\n",
    "from plotly import __version__\n",
    "from plotly.offline import download_plotlyjs, init_notebook_mode, plot, iplot\n",
    "import plotly.graph_objs as go\n",
    "from IPython.html.widgets import interact\n",
    "\n",
    "\n",
    "print(__version__)\n",
    "init_notebook_mode(connected=True)\n",
    "\n",
    "\n",
    "# adding current directory into environment path\n",
    "# required for selenium chrome\n",
    "os.environ[\"PATH\"] += os.pathsep + './'"
   ]
  },
  {
   "cell_type": "code",
   "execution_count": 2,
   "metadata": {
    "collapsed": true
   },
   "outputs": [],
   "source": [
    "curr_trade_price = 30000\n",
    "change_choices = range(-5, 6)\n",
    "def simulate_trade():\n",
    "    global curr_trade_price\n",
    "    trade_list = []\n",
    "    for _ in range(np.random.choice([1,2,3])):\n",
    "        today = datetime.datetime.now()\n",
    "        trade_time = '{}:{}:{}'.format(today.hour, today.minute, today.second)\n",
    "        trade_change = np.random.choice(change_choices)\n",
    "        trade_price = curr_trade_price + trade_change\n",
    "        curr_trade_price = trade_price\n",
    "        trade = Trade(trade_time, trade_price, trade_change, 1, 1, 100)\n",
    "        trade_list.append(trade)\n",
    "        time.sleep(0.5)\n",
    "        print(trade)\n",
    "    return trade_list"
   ]
  },
  {
   "cell_type": "code",
   "execution_count": 30,
   "metadata": {
    "collapsed": true
   },
   "outputs": [],
   "source": [
    "Trade = namedtuple('Trade', ['time', 'price', 'change', 'precentage_change', 'single_volumn', 'total_volumn'])\n",
    "\n",
    "def to_datetime_obj(trade_time):\n",
    "    today = datetime.datetime.now()\n",
    "    result = datetime.datetime.strptime(trade_time, '%H:%M:%S')\n",
    "    result = result.replace(year=today.year, month=today.month, day=today.day)\n",
    "    return result\n",
    "    \n",
    "class Stock(object):\n",
    "    def __init__(self, time_interval=1):\n",
    "        # initialize the browser\n",
    "        print(\"Openning browser...\")\n",
    "        print(\"Connecting to http://m.3x.com.tw/app_future.php...\")\n",
    "        self.driver = webdriver.Chrome() # using Chrome to fetch data\n",
    "        self.driver.get(\"http://m.3x.com.tw/app_future.php\") # data source     \n",
    "        self.id_list = ['detail_ul_{}'.format(i) for i in range(11)]\n",
    "        time.sleep(1)\n",
    "        \n",
    "        \n",
    "        # define data variable for plotting candles\n",
    "        self.time_interval = datetime.timedelta(minutes=time_interval)\n",
    "        self.open_data = [0]\n",
    "        self.high_data = [0]\n",
    "        self.low_data = [0]\n",
    "        self.close_data = [0]\n",
    "        self.datetime_data = [0]\n",
    "        self.curr_open = self.curr_high = self.curr_low = self.curr_close = 0\n",
    "        self.curr_datetime = datetime.datetime.now()\n",
    "        self.next_datetime = self.curr_datetime + self.time_interval\n",
    "        self.datetime_data[-1] = self.curr_datetime\n",
    "        \n",
    "        # initize the trades records\n",
    "        self.trades = deque(maxlen=30)\n",
    "        \n",
    "        \n",
    "    def init_candle_value(self):\n",
    "        print(\"initialize the candle plot value\")\n",
    "        trade_list = self.get_live_trade_data()\n",
    "        print('*'*30)\n",
    "        print(trade_list, '\\n', '*'*30)\n",
    "        if len(trade_list) > 0:\n",
    "            trade = trade_list[-1]\n",
    "            trade_time = to_datetime_obj(trade.time)\n",
    "            trade_price = float(trade.price)\n",
    "\n",
    "            self.curr_open = self.curr_high = self.curr_low = self.curr_close = trade_price\n",
    "            self.open_data[-1] = self.curr_open\n",
    "            self.high_data[-1] = self.curr_high\n",
    "            self.low_data[-1] = self.curr_low\n",
    "            self.close_data[-1] = self.curr_close\n",
    "            self.datetime_data[-1] = self.curr_datetime\n",
    "        else:\n",
    "            print(\"No trade found in the web. using the simulation data...\")\n",
    "            trade = simulate_trade()[-1]\n",
    "            trade_time = to_datetime_obj(trade.time)\n",
    "            trade_price = float(trade.price)\n",
    "\n",
    "            self.curr_open = self.curr_high = self.curr_low = self.curr_close = trade_price\n",
    "            self.open_data[-1] = self.curr_open\n",
    "            self.high_data[-1] = self.curr_high\n",
    "            self.low_data[-1] = self.curr_low\n",
    "            self.close_data[-1] = self.curr_close\n",
    "            self.datetime_data[-1] = self.curr_datetime\n",
    "        print(\"=\"*30)\n",
    "\n",
    "\n",
    "    def get_live_trade_data(self):\n",
    "        curr_trade_list = []\n",
    "        for id_tag in self.id_list:\n",
    "            targets = self.driver.find_elements_by_id(id_tag)\n",
    "            for data in targets:\n",
    "                items = data.find_elements_by_tag_name(\"li\")\n",
    "                try:\n",
    "                    # extract the trade record\n",
    "                    trade = Trade(*[item.text for item in items])\n",
    "                    \n",
    "                    # if the trade is not in the trade lists, append it and print it out\n",
    "                    if trade not in list(self.trades):\n",
    "                        self.trades.append(trade)\n",
    "                        curr_trade_list.append(trade)\n",
    "                        print(\"時間: {}, 現價: {}, 漲跌: {}, %: {}, 單量: {}, 總量: {}\".format(\n",
    "                            trade.time,\n",
    "                            trade.price,\n",
    "                            trade.change,\n",
    "                            trade.precentage_change,\n",
    "                            trade.single_volumn,\n",
    "                            trade.total_volumn\n",
    "                        ))\n",
    "                    else:\n",
    "                        return curr_trade_list\n",
    "                except:\n",
    "                    continue\n",
    "        return curr_trade_list\n",
    "    \n",
    "    def update_candle_data(self, trade_list):    \n",
    "        for trade in trade_list:\n",
    "            trade_time = to_datetime_obj(trade.time) # str: 'hh:mm:ss'\n",
    "            trade_price = float(trade.price) # str: 'xxxxx.xx'\n",
    "            \n",
    "            if trade_time > self.next_datetime:\n",
    "                # expand candle\n",
    "                self.open_data.append(0)\n",
    "                self.high_data.append(0)\n",
    "                self.low_data.append(0)\n",
    "                self.close_data.append(0)\n",
    "                self.datetime_data.append(0)\n",
    "                \n",
    "                self.curr_high = 0\n",
    "                self.curr_low = 1000000\n",
    "                self.curr_datetime = self.next_datetime\n",
    "                self.next_datetime = self.curr_datetime + self.time_interval\n",
    "                self.open_data[-1] = self.close_data[-2]\n",
    "                \n",
    "            # update current candle data\n",
    "            self.curr_high = max(self.curr_high, trade_price)\n",
    "            self.curr_low = min(self.curr_low, trade_price)\n",
    "            self.curr_close = trade_price\n",
    "            self.high_data[-1] = self.curr_high\n",
    "            self.low_data[-1] = self.curr_low\n",
    "            self.close_data[-1] = self.curr_close\n",
    "            self.datetime_data[-1] = self.curr_datetime\n",
    "    \n",
    "    def get_candle_plot(self):\n",
    "        trace = go.Candlestick(x=self.datetime_data,\n",
    "                       open=self.open_data,\n",
    "                       high=self.high_data,\n",
    "                       low=self.low_data,\n",
    "                       close=self.close_data)\n",
    "        data = [trace]\n",
    "        iplot(data)\n",
    "        "
   ]
  },
  {
   "cell_type": "code",
   "execution_count": 31,
   "metadata": {},
   "outputs": [
    {
     "name": "stdout",
     "output_type": "stream",
     "text": [
      "Openning browser...\n",
      "Connecting to http://m.3x.com.tw/app_future.php...\n",
      "initialize the candle plot value\n",
      "時間: 11:12:11, 現價: 29734, 漲跌: -176, %: -0.59, 單量: 2, 總量: 95311\n",
      "時間: 11:12:10, 現價: 29734, 漲跌: -176, %: -0.59, 單量: 8, 總量: 95309\n",
      "時間: 11:12:10, 現價: 29736, 漲跌: -174, %: -0.58, 單量: 6, 總量: 95301\n",
      "時間: 11:12:09, 現價: 29736, 漲跌: -174, %: -0.58, 單量: 2, 總量: 95295\n",
      "時間: 11:12:08, 現價: 29737, 漲跌: -173, %: -0.58, 單量: 2, 總量: 95293\n",
      "時間: 11:12:06, 現價: 29737, 漲跌: -173, %: -0.58, 單量: 2, 總量: 95291\n",
      "時間: 11:12:06, 現價: 29737, 漲跌: -173, %: -0.58, 單量: 3, 總量: 95289\n",
      "時間: 11:12:04, 現價: 29736, 漲跌: -174, %: -0.58, 單量: 1, 總量: 95286\n",
      "時間: 11:12:03, 現價: 29736, 漲跌: -174, %: -0.58, 單量: 6, 總量: 95285\n",
      "******************************\n",
      "[Trade(time='11:12:11', price='29734', change='-176', precentage_change='-0.59', single_volumn='2', total_volumn='95311'), Trade(time='11:12:10', price='29734', change='-176', precentage_change='-0.59', single_volumn='8', total_volumn='95309'), Trade(time='11:12:10', price='29736', change='-174', precentage_change='-0.58', single_volumn='6', total_volumn='95301'), Trade(time='11:12:09', price='29736', change='-174', precentage_change='-0.58', single_volumn='2', total_volumn='95295'), Trade(time='11:12:08', price='29737', change='-173', precentage_change='-0.58', single_volumn='2', total_volumn='95293'), Trade(time='11:12:06', price='29737', change='-173', precentage_change='-0.58', single_volumn='2', total_volumn='95291'), Trade(time='11:12:06', price='29737', change='-173', precentage_change='-0.58', single_volumn='3', total_volumn='95289'), Trade(time='11:12:04', price='29736', change='-174', precentage_change='-0.58', single_volumn='1', total_volumn='95286'), Trade(time='11:12:03', price='29736', change='-174', precentage_change='-0.58', single_volumn='6', total_volumn='95285')] \n",
      " ******************************\n",
      "==============================\n"
     ]
    }
   ],
   "source": [
    "x = Stock()\n",
    "x.init_candle_value()"
   ]
  },
  {
   "cell_type": "code",
   "execution_count": 33,
   "metadata": {},
   "outputs": [
    {
     "data": {
      "application/vnd.plotly.v1+json": {
       "data": [
        {
         "close": [
          29720,
          29707,
          29730,
          29741,
          29735,
          29740,
          29752,
          29740,
          29743,
          29748,
          29755,
          29760,
          29753,
          29743,
          29751,
          29745
         ],
         "high": [
          29738,
          29727,
          29736,
          29742,
          29746,
          29742,
          29752,
          29750,
          29747,
          29752,
          29756,
          29762,
          29768,
          29755,
          29753,
          29751
         ],
         "low": [
          29720,
          29701,
          29705,
          29723,
          29732,
          29729,
          29735,
          29738,
          29739,
          29743,
          29746,
          29754,
          29753,
          29743,
          29741,
          29744
         ],
         "open": [
          29734,
          29720,
          29707,
          29730,
          29741,
          29735,
          29740,
          29752,
          29740,
          29743,
          29748,
          29755,
          29760,
          29753,
          29743,
          29751
         ],
         "type": "candlestick",
         "x": [
          "2017-11-27 03:13:04.458824",
          "2017-11-27 03:14:04.458824",
          "2017-11-27 03:15:04.458824",
          "2017-11-27 03:16:04.458824",
          "2017-11-27 03:17:04.458824",
          "2017-11-27 03:18:04.458824",
          "2017-11-27 03:19:04.458824",
          "2017-11-27 03:20:04.458824",
          "2017-11-27 03:21:04.458824",
          "2017-11-27 03:22:04.458824",
          "2017-11-27 03:23:04.458824",
          "2017-11-27 03:24:04.458824",
          "2017-11-27 03:25:04.458824",
          "2017-11-27 03:26:04.458824",
          "2017-11-27 03:27:04.458824",
          "2017-11-27 03:28:04.458824"
         ]
        }
       ],
       "layout": {}
      },
      "text/html": [
       "<div id=\"289afeb7-c6c8-4fc6-937e-e6c5483b3d64\" style=\"height: 525px; width: 100%;\" class=\"plotly-graph-div\"></div><script type=\"text/javascript\">require([\"plotly\"], function(Plotly) { window.PLOTLYENV=window.PLOTLYENV || {};window.PLOTLYENV.BASE_URL=\"https://plot.ly\";Plotly.newPlot(\"289afeb7-c6c8-4fc6-937e-e6c5483b3d64\", [{\"type\": \"candlestick\", \"x\": [\"2017-11-27 03:13:04.458824\", \"2017-11-27 03:14:04.458824\", \"2017-11-27 03:15:04.458824\", \"2017-11-27 03:16:04.458824\", \"2017-11-27 03:17:04.458824\", \"2017-11-27 03:18:04.458824\", \"2017-11-27 03:19:04.458824\", \"2017-11-27 03:20:04.458824\", \"2017-11-27 03:21:04.458824\", \"2017-11-27 03:22:04.458824\", \"2017-11-27 03:23:04.458824\", \"2017-11-27 03:24:04.458824\", \"2017-11-27 03:25:04.458824\", \"2017-11-27 03:26:04.458824\", \"2017-11-27 03:27:04.458824\", \"2017-11-27 03:28:04.458824\"], \"open\": [29734.0, 29720.0, 29707.0, 29730.0, 29741.0, 29735.0, 29740.0, 29752.0, 29740.0, 29743.0, 29748.0, 29755.0, 29760.0, 29753.0, 29743.0, 29751.0], \"high\": [29738.0, 29727.0, 29736.0, 29742.0, 29746.0, 29742.0, 29752.0, 29750.0, 29747.0, 29752.0, 29756.0, 29762.0, 29768.0, 29755.0, 29753.0, 29751.0], \"low\": [29720.0, 29701.0, 29705.0, 29723.0, 29732.0, 29729.0, 29735.0, 29738.0, 29739.0, 29743.0, 29746.0, 29754.0, 29753.0, 29743.0, 29741.0, 29744.0], \"close\": [29720.0, 29707.0, 29730.0, 29741.0, 29735.0, 29740.0, 29752.0, 29740.0, 29743.0, 29748.0, 29755.0, 29760.0, 29753.0, 29743.0, 29751.0, 29745.0]}], {}, {\"showLink\": true, \"linkText\": \"Export to plot.ly\"})});</script>"
      ],
      "text/vnd.plotly.v1+html": [
       "<div id=\"289afeb7-c6c8-4fc6-937e-e6c5483b3d64\" style=\"height: 525px; width: 100%;\" class=\"plotly-graph-div\"></div><script type=\"text/javascript\">require([\"plotly\"], function(Plotly) { window.PLOTLYENV=window.PLOTLYENV || {};window.PLOTLYENV.BASE_URL=\"https://plot.ly\";Plotly.newPlot(\"289afeb7-c6c8-4fc6-937e-e6c5483b3d64\", [{\"type\": \"candlestick\", \"x\": [\"2017-11-27 03:13:04.458824\", \"2017-11-27 03:14:04.458824\", \"2017-11-27 03:15:04.458824\", \"2017-11-27 03:16:04.458824\", \"2017-11-27 03:17:04.458824\", \"2017-11-27 03:18:04.458824\", \"2017-11-27 03:19:04.458824\", \"2017-11-27 03:20:04.458824\", \"2017-11-27 03:21:04.458824\", \"2017-11-27 03:22:04.458824\", \"2017-11-27 03:23:04.458824\", \"2017-11-27 03:24:04.458824\", \"2017-11-27 03:25:04.458824\", \"2017-11-27 03:26:04.458824\", \"2017-11-27 03:27:04.458824\", \"2017-11-27 03:28:04.458824\"], \"open\": [29734.0, 29720.0, 29707.0, 29730.0, 29741.0, 29735.0, 29740.0, 29752.0, 29740.0, 29743.0, 29748.0, 29755.0, 29760.0, 29753.0, 29743.0, 29751.0], \"high\": [29738.0, 29727.0, 29736.0, 29742.0, 29746.0, 29742.0, 29752.0, 29750.0, 29747.0, 29752.0, 29756.0, 29762.0, 29768.0, 29755.0, 29753.0, 29751.0], \"low\": [29720.0, 29701.0, 29705.0, 29723.0, 29732.0, 29729.0, 29735.0, 29738.0, 29739.0, 29743.0, 29746.0, 29754.0, 29753.0, 29743.0, 29741.0, 29744.0], \"close\": [29720.0, 29707.0, 29730.0, 29741.0, 29735.0, 29740.0, 29752.0, 29740.0, 29743.0, 29748.0, 29755.0, 29760.0, 29753.0, 29743.0, 29751.0, 29745.0]}], {}, {\"showLink\": true, \"linkText\": \"Export to plot.ly\"})});</script>"
      ]
     },
     "metadata": {},
     "output_type": "display_data"
    },
    {
     "ename": "CannotSendRequest",
     "evalue": "Request-sent",
     "output_type": "error",
     "traceback": [
      "\u001b[0;31m-------------------------------------------------------------\u001b[0m",
      "\u001b[0;31mCannotSendRequest\u001b[0m           Traceback (most recent call last)",
      "\u001b[0;32m<ipython-input-33-3a785d743a70>\u001b[0m in \u001b[0;36m<module>\u001b[0;34m()\u001b[0m\n\u001b[1;32m      3\u001b[0m \u001b[0;32mfor\u001b[0m \u001b[0m_\u001b[0m \u001b[0;32min\u001b[0m \u001b[0mrange\u001b[0m\u001b[0;34m(\u001b[0m\u001b[0;36m1000\u001b[0m\u001b[0;34m)\u001b[0m\u001b[0;34m:\u001b[0m\u001b[0;34m\u001b[0m\u001b[0m\n\u001b[1;32m      4\u001b[0m     \u001b[0minteract\u001b[0m\u001b[0;34m(\u001b[0m\u001b[0mx\u001b[0m\u001b[0;34m.\u001b[0m\u001b[0mget_candle_plot\u001b[0m\u001b[0;34m)\u001b[0m\u001b[0;34m\u001b[0m\u001b[0m\n\u001b[0;32m----> 5\u001b[0;31m     \u001b[0mtrade_list\u001b[0m \u001b[0;34m=\u001b[0m \u001b[0mx\u001b[0m\u001b[0;34m.\u001b[0m\u001b[0mget_live_trade_data\u001b[0m\u001b[0;34m(\u001b[0m\u001b[0;34m)\u001b[0m\u001b[0;34m\u001b[0m\u001b[0m\n\u001b[0m\u001b[1;32m      6\u001b[0m     \u001b[0mx\u001b[0m\u001b[0;34m.\u001b[0m\u001b[0mupdate_candle_data\u001b[0m\u001b[0;34m(\u001b[0m\u001b[0mtrade_list\u001b[0m\u001b[0;34m)\u001b[0m\u001b[0;34m\u001b[0m\u001b[0m\n\u001b[1;32m      7\u001b[0m     \u001b[0mtime\u001b[0m\u001b[0;34m.\u001b[0m\u001b[0msleep\u001b[0m\u001b[0;34m(\u001b[0m\u001b[0;36m1\u001b[0m\u001b[0;34m)\u001b[0m\u001b[0;34m\u001b[0m\u001b[0m\n",
      "\u001b[0;32m<ipython-input-30-162820b220e6>\u001b[0m in \u001b[0;36mget_live_trade_data\u001b[0;34m(self)\u001b[0m\n\u001b[1;32m     68\u001b[0m         \u001b[0mcurr_trade_list\u001b[0m \u001b[0;34m=\u001b[0m \u001b[0;34m[\u001b[0m\u001b[0;34m]\u001b[0m\u001b[0;34m\u001b[0m\u001b[0m\n\u001b[1;32m     69\u001b[0m         \u001b[0;32mfor\u001b[0m \u001b[0mid_tag\u001b[0m \u001b[0;32min\u001b[0m \u001b[0mself\u001b[0m\u001b[0;34m.\u001b[0m\u001b[0mid_list\u001b[0m\u001b[0;34m:\u001b[0m\u001b[0;34m\u001b[0m\u001b[0m\n\u001b[0;32m---> 70\u001b[0;31m             \u001b[0mtargets\u001b[0m \u001b[0;34m=\u001b[0m \u001b[0mself\u001b[0m\u001b[0;34m.\u001b[0m\u001b[0mdriver\u001b[0m\u001b[0;34m.\u001b[0m\u001b[0mfind_elements_by_id\u001b[0m\u001b[0;34m(\u001b[0m\u001b[0mid_tag\u001b[0m\u001b[0;34m)\u001b[0m\u001b[0;34m\u001b[0m\u001b[0m\n\u001b[0m\u001b[1;32m     71\u001b[0m             \u001b[0;32mfor\u001b[0m \u001b[0mdata\u001b[0m \u001b[0;32min\u001b[0m \u001b[0mtargets\u001b[0m\u001b[0;34m:\u001b[0m\u001b[0;34m\u001b[0m\u001b[0m\n\u001b[1;32m     72\u001b[0m                 \u001b[0mitems\u001b[0m \u001b[0;34m=\u001b[0m \u001b[0mdata\u001b[0m\u001b[0;34m.\u001b[0m\u001b[0mfind_elements_by_tag_name\u001b[0m\u001b[0;34m(\u001b[0m\u001b[0;34m\"li\"\u001b[0m\u001b[0;34m)\u001b[0m\u001b[0;34m\u001b[0m\u001b[0m\n",
      "\u001b[0;32m~/anaconda/envs/stock/lib/python3.6/site-packages/selenium/webdriver/remote/webdriver.py\u001b[0m in \u001b[0;36mfind_elements_by_id\u001b[0;34m(self, id_)\u001b[0m\n\u001b[1;32m    351\u001b[0m             \u001b[0mdriver\u001b[0m\u001b[0;34m.\u001b[0m\u001b[0mfind_elements_by_id\u001b[0m\u001b[0;34m(\u001b[0m\u001b[0;34m'foo'\u001b[0m\u001b[0;34m)\u001b[0m\u001b[0;34m\u001b[0m\u001b[0m\n\u001b[1;32m    352\u001b[0m         \"\"\"\n\u001b[0;32m--> 353\u001b[0;31m         \u001b[0;32mreturn\u001b[0m \u001b[0mself\u001b[0m\u001b[0;34m.\u001b[0m\u001b[0mfind_elements\u001b[0m\u001b[0;34m(\u001b[0m\u001b[0mby\u001b[0m\u001b[0;34m=\u001b[0m\u001b[0mBy\u001b[0m\u001b[0;34m.\u001b[0m\u001b[0mID\u001b[0m\u001b[0;34m,\u001b[0m \u001b[0mvalue\u001b[0m\u001b[0;34m=\u001b[0m\u001b[0mid_\u001b[0m\u001b[0;34m)\u001b[0m\u001b[0;34m\u001b[0m\u001b[0m\n\u001b[0m\u001b[1;32m    354\u001b[0m \u001b[0;34m\u001b[0m\u001b[0m\n\u001b[1;32m    355\u001b[0m     \u001b[0;32mdef\u001b[0m \u001b[0mfind_element_by_xpath\u001b[0m\u001b[0;34m(\u001b[0m\u001b[0mself\u001b[0m\u001b[0;34m,\u001b[0m \u001b[0mxpath\u001b[0m\u001b[0;34m)\u001b[0m\u001b[0;34m:\u001b[0m\u001b[0;34m\u001b[0m\u001b[0m\n",
      "\u001b[0;32m~/anaconda/envs/stock/lib/python3.6/site-packages/selenium/webdriver/remote/webdriver.py\u001b[0m in \u001b[0;36mfind_elements\u001b[0;34m(self, by, value)\u001b[0m\n\u001b[1;32m    881\u001b[0m         return self.execute(Command.FIND_ELEMENTS, {\n\u001b[1;32m    882\u001b[0m             \u001b[0;34m'using'\u001b[0m\u001b[0;34m:\u001b[0m \u001b[0mby\u001b[0m\u001b[0;34m,\u001b[0m\u001b[0;34m\u001b[0m\u001b[0m\n\u001b[0;32m--> 883\u001b[0;31m             'value': value})['value'] or []\n\u001b[0m\u001b[1;32m    884\u001b[0m \u001b[0;34m\u001b[0m\u001b[0m\n\u001b[1;32m    885\u001b[0m     \u001b[0;34m@\u001b[0m\u001b[0mproperty\u001b[0m\u001b[0;34m\u001b[0m\u001b[0m\n",
      "\u001b[0;32m~/anaconda/envs/stock/lib/python3.6/site-packages/selenium/webdriver/remote/webdriver.py\u001b[0m in \u001b[0;36mexecute\u001b[0;34m(self, driver_command, params)\u001b[0m\n\u001b[1;32m    304\u001b[0m \u001b[0;34m\u001b[0m\u001b[0m\n\u001b[1;32m    305\u001b[0m         \u001b[0mparams\u001b[0m \u001b[0;34m=\u001b[0m \u001b[0mself\u001b[0m\u001b[0;34m.\u001b[0m\u001b[0m_wrap_value\u001b[0m\u001b[0;34m(\u001b[0m\u001b[0mparams\u001b[0m\u001b[0;34m)\u001b[0m\u001b[0;34m\u001b[0m\u001b[0m\n\u001b[0;32m--> 306\u001b[0;31m         \u001b[0mresponse\u001b[0m \u001b[0;34m=\u001b[0m \u001b[0mself\u001b[0m\u001b[0;34m.\u001b[0m\u001b[0mcommand_executor\u001b[0m\u001b[0;34m.\u001b[0m\u001b[0mexecute\u001b[0m\u001b[0;34m(\u001b[0m\u001b[0mdriver_command\u001b[0m\u001b[0;34m,\u001b[0m \u001b[0mparams\u001b[0m\u001b[0;34m)\u001b[0m\u001b[0;34m\u001b[0m\u001b[0m\n\u001b[0m\u001b[1;32m    307\u001b[0m         \u001b[0;32mif\u001b[0m \u001b[0mresponse\u001b[0m\u001b[0;34m:\u001b[0m\u001b[0;34m\u001b[0m\u001b[0m\n\u001b[1;32m    308\u001b[0m             \u001b[0mself\u001b[0m\u001b[0;34m.\u001b[0m\u001b[0merror_handler\u001b[0m\u001b[0;34m.\u001b[0m\u001b[0mcheck_response\u001b[0m\u001b[0;34m(\u001b[0m\u001b[0mresponse\u001b[0m\u001b[0;34m)\u001b[0m\u001b[0;34m\u001b[0m\u001b[0m\n",
      "\u001b[0;32m~/anaconda/envs/stock/lib/python3.6/site-packages/selenium/webdriver/remote/remote_connection.py\u001b[0m in \u001b[0;36mexecute\u001b[0;34m(self, command, params)\u001b[0m\n\u001b[1;32m    458\u001b[0m         \u001b[0mpath\u001b[0m \u001b[0;34m=\u001b[0m \u001b[0mstring\u001b[0m\u001b[0;34m.\u001b[0m\u001b[0mTemplate\u001b[0m\u001b[0;34m(\u001b[0m\u001b[0mcommand_info\u001b[0m\u001b[0;34m[\u001b[0m\u001b[0;36m1\u001b[0m\u001b[0;34m]\u001b[0m\u001b[0;34m)\u001b[0m\u001b[0;34m.\u001b[0m\u001b[0msubstitute\u001b[0m\u001b[0;34m(\u001b[0m\u001b[0mparams\u001b[0m\u001b[0;34m)\u001b[0m\u001b[0;34m\u001b[0m\u001b[0m\n\u001b[1;32m    459\u001b[0m         \u001b[0murl\u001b[0m \u001b[0;34m=\u001b[0m \u001b[0;34m'%s%s'\u001b[0m \u001b[0;34m%\u001b[0m \u001b[0;34m(\u001b[0m\u001b[0mself\u001b[0m\u001b[0;34m.\u001b[0m\u001b[0m_url\u001b[0m\u001b[0;34m,\u001b[0m \u001b[0mpath\u001b[0m\u001b[0;34m)\u001b[0m\u001b[0;34m\u001b[0m\u001b[0m\n\u001b[0;32m--> 460\u001b[0;31m         \u001b[0;32mreturn\u001b[0m \u001b[0mself\u001b[0m\u001b[0;34m.\u001b[0m\u001b[0m_request\u001b[0m\u001b[0;34m(\u001b[0m\u001b[0mcommand_info\u001b[0m\u001b[0;34m[\u001b[0m\u001b[0;36m0\u001b[0m\u001b[0;34m]\u001b[0m\u001b[0;34m,\u001b[0m \u001b[0murl\u001b[0m\u001b[0;34m,\u001b[0m \u001b[0mbody\u001b[0m\u001b[0;34m=\u001b[0m\u001b[0mdata\u001b[0m\u001b[0;34m)\u001b[0m\u001b[0;34m\u001b[0m\u001b[0m\n\u001b[0m\u001b[1;32m    461\u001b[0m \u001b[0;34m\u001b[0m\u001b[0m\n\u001b[1;32m    462\u001b[0m     \u001b[0;32mdef\u001b[0m \u001b[0m_request\u001b[0m\u001b[0;34m(\u001b[0m\u001b[0mself\u001b[0m\u001b[0;34m,\u001b[0m \u001b[0mmethod\u001b[0m\u001b[0;34m,\u001b[0m \u001b[0murl\u001b[0m\u001b[0;34m,\u001b[0m \u001b[0mbody\u001b[0m\u001b[0;34m=\u001b[0m\u001b[0;32mNone\u001b[0m\u001b[0;34m)\u001b[0m\u001b[0;34m:\u001b[0m\u001b[0;34m\u001b[0m\u001b[0m\n",
      "\u001b[0;32m~/anaconda/envs/stock/lib/python3.6/site-packages/selenium/webdriver/remote/remote_connection.py\u001b[0m in \u001b[0;36m_request\u001b[0;34m(self, method, url, body)\u001b[0m\n\u001b[1;32m    481\u001b[0m                 \u001b[0mbody\u001b[0m \u001b[0;34m=\u001b[0m \u001b[0;32mNone\u001b[0m\u001b[0;34m\u001b[0m\u001b[0m\n\u001b[1;32m    482\u001b[0m             \u001b[0;32mtry\u001b[0m\u001b[0;34m:\u001b[0m\u001b[0;34m\u001b[0m\u001b[0m\n\u001b[0;32m--> 483\u001b[0;31m                 \u001b[0mself\u001b[0m\u001b[0;34m.\u001b[0m\u001b[0m_conn\u001b[0m\u001b[0;34m.\u001b[0m\u001b[0mrequest\u001b[0m\u001b[0;34m(\u001b[0m\u001b[0mmethod\u001b[0m\u001b[0;34m,\u001b[0m \u001b[0mparsed_url\u001b[0m\u001b[0;34m.\u001b[0m\u001b[0mpath\u001b[0m\u001b[0;34m,\u001b[0m \u001b[0mbody\u001b[0m\u001b[0;34m,\u001b[0m \u001b[0mheaders\u001b[0m\u001b[0;34m)\u001b[0m\u001b[0;34m\u001b[0m\u001b[0m\n\u001b[0m\u001b[1;32m    484\u001b[0m                 \u001b[0mresp\u001b[0m \u001b[0;34m=\u001b[0m \u001b[0mself\u001b[0m\u001b[0;34m.\u001b[0m\u001b[0m_conn\u001b[0m\u001b[0;34m.\u001b[0m\u001b[0mgetresponse\u001b[0m\u001b[0;34m(\u001b[0m\u001b[0;34m)\u001b[0m\u001b[0;34m\u001b[0m\u001b[0m\n\u001b[1;32m    485\u001b[0m             \u001b[0;32mexcept\u001b[0m \u001b[0;34m(\u001b[0m\u001b[0mhttplib\u001b[0m\u001b[0;34m.\u001b[0m\u001b[0mHTTPException\u001b[0m\u001b[0;34m,\u001b[0m \u001b[0msocket\u001b[0m\u001b[0;34m.\u001b[0m\u001b[0merror\u001b[0m\u001b[0;34m)\u001b[0m\u001b[0;34m:\u001b[0m\u001b[0;34m\u001b[0m\u001b[0m\n",
      "\u001b[0;32m~/anaconda/envs/stock/lib/python3.6/http/client.py\u001b[0m in \u001b[0;36mrequest\u001b[0;34m(self, method, url, body, headers, encode_chunked)\u001b[0m\n\u001b[1;32m   1237\u001b[0m                 encode_chunked=False):\n\u001b[1;32m   1238\u001b[0m         \u001b[0;34m\"\"\"Send a complete request to the server.\"\"\"\u001b[0m\u001b[0;34m\u001b[0m\u001b[0m\n\u001b[0;32m-> 1239\u001b[0;31m         \u001b[0mself\u001b[0m\u001b[0;34m.\u001b[0m\u001b[0m_send_request\u001b[0m\u001b[0;34m(\u001b[0m\u001b[0mmethod\u001b[0m\u001b[0;34m,\u001b[0m \u001b[0murl\u001b[0m\u001b[0;34m,\u001b[0m \u001b[0mbody\u001b[0m\u001b[0;34m,\u001b[0m \u001b[0mheaders\u001b[0m\u001b[0;34m,\u001b[0m \u001b[0mencode_chunked\u001b[0m\u001b[0;34m)\u001b[0m\u001b[0;34m\u001b[0m\u001b[0m\n\u001b[0m\u001b[1;32m   1240\u001b[0m \u001b[0;34m\u001b[0m\u001b[0m\n\u001b[1;32m   1241\u001b[0m     \u001b[0;32mdef\u001b[0m \u001b[0m_send_request\u001b[0m\u001b[0;34m(\u001b[0m\u001b[0mself\u001b[0m\u001b[0;34m,\u001b[0m \u001b[0mmethod\u001b[0m\u001b[0;34m,\u001b[0m \u001b[0murl\u001b[0m\u001b[0;34m,\u001b[0m \u001b[0mbody\u001b[0m\u001b[0;34m,\u001b[0m \u001b[0mheaders\u001b[0m\u001b[0;34m,\u001b[0m \u001b[0mencode_chunked\u001b[0m\u001b[0;34m)\u001b[0m\u001b[0;34m:\u001b[0m\u001b[0;34m\u001b[0m\u001b[0m\n",
      "\u001b[0;32m~/anaconda/envs/stock/lib/python3.6/http/client.py\u001b[0m in \u001b[0;36m_send_request\u001b[0;34m(self, method, url, body, headers, encode_chunked)\u001b[0m\n\u001b[1;32m   1248\u001b[0m             \u001b[0mskips\u001b[0m\u001b[0;34m[\u001b[0m\u001b[0;34m'skip_accept_encoding'\u001b[0m\u001b[0;34m]\u001b[0m \u001b[0;34m=\u001b[0m \u001b[0;36m1\u001b[0m\u001b[0;34m\u001b[0m\u001b[0m\n\u001b[1;32m   1249\u001b[0m \u001b[0;34m\u001b[0m\u001b[0m\n\u001b[0;32m-> 1250\u001b[0;31m         \u001b[0mself\u001b[0m\u001b[0;34m.\u001b[0m\u001b[0mputrequest\u001b[0m\u001b[0;34m(\u001b[0m\u001b[0mmethod\u001b[0m\u001b[0;34m,\u001b[0m \u001b[0murl\u001b[0m\u001b[0;34m,\u001b[0m \u001b[0;34m**\u001b[0m\u001b[0mskips\u001b[0m\u001b[0;34m)\u001b[0m\u001b[0;34m\u001b[0m\u001b[0m\n\u001b[0m\u001b[1;32m   1251\u001b[0m \u001b[0;34m\u001b[0m\u001b[0m\n\u001b[1;32m   1252\u001b[0m         \u001b[0;31m# chunked encoding will happen if HTTP/1.1 is used and either\u001b[0m\u001b[0;34m\u001b[0m\u001b[0;34m\u001b[0m\u001b[0m\n",
      "\u001b[0;32m~/anaconda/envs/stock/lib/python3.6/http/client.py\u001b[0m in \u001b[0;36mputrequest\u001b[0;34m(self, method, url, skip_host, skip_accept_encoding)\u001b[0m\n\u001b[1;32m   1106\u001b[0m             \u001b[0mself\u001b[0m\u001b[0;34m.\u001b[0m\u001b[0m__state\u001b[0m \u001b[0;34m=\u001b[0m \u001b[0m_CS_REQ_STARTED\u001b[0m\u001b[0;34m\u001b[0m\u001b[0m\n\u001b[1;32m   1107\u001b[0m         \u001b[0;32melse\u001b[0m\u001b[0;34m:\u001b[0m\u001b[0;34m\u001b[0m\u001b[0m\n\u001b[0;32m-> 1108\u001b[0;31m             \u001b[0;32mraise\u001b[0m \u001b[0mCannotSendRequest\u001b[0m\u001b[0;34m(\u001b[0m\u001b[0mself\u001b[0m\u001b[0;34m.\u001b[0m\u001b[0m__state\u001b[0m\u001b[0;34m)\u001b[0m\u001b[0;34m\u001b[0m\u001b[0m\n\u001b[0m\u001b[1;32m   1109\u001b[0m \u001b[0;34m\u001b[0m\u001b[0m\n\u001b[1;32m   1110\u001b[0m         \u001b[0;31m# Save the method we use, we need it later in the response phase\u001b[0m\u001b[0;34m\u001b[0m\u001b[0;34m\u001b[0m\u001b[0m\n",
      "\u001b[0;31mCannotSendRequest\u001b[0m: Request-sent"
     ]
    }
   ],
   "source": [
    "x = Stock()\n",
    "x.init_candle_value()\n",
    "for _ in range(1000):\n",
    "    interact(x.get_candle_plot)\n",
    "    trade_list = x.get_live_trade_data()\n",
    "    x.update_candle_data(trade_list)\n",
    "    time.sleep(1)"
   ]
  },
  {
   "cell_type": "code",
   "execution_count": 13,
   "metadata": {},
   "outputs": [
    {
     "name": "stdout",
     "output_type": "stream",
     "text": [
      "時間: 10:35:07, 現價: 29752, 漲跌: -158, %: -0.53, 單量: 21, 總量: 80610\n",
      "時間: 10:35:07, 現價: 29749, 漲跌: -161, %: -0.54, 單量: 1, 總量: 80589\n",
      "時間: 10:35:06, 現價: 29749, 漲跌: -161, %: -0.54, 單量: 11, 總量: 80588\n"
     ]
    },
    {
     "data": {
      "application/vnd.plotly.v1+json": {
       "data": [
        {
         "close": [
          30001,
          29753,
          29752,
          29749
         ],
         "high": [
          30001,
          30001,
          30001,
          30001
         ],
         "low": [
          30001,
          29753,
          29751,
          29748
         ],
         "open": [
          30001,
          30001,
          29753,
          29752
         ],
         "type": "candlestick",
         "x": [
          "2017-11-27 02:31:57.591029",
          "2017-11-27 02:32:57.591029",
          "2017-11-27 02:33:57.591029",
          "2017-11-27 02:34:57.591029"
         ]
        }
       ],
       "layout": {}
      },
      "text/html": [
       "<div id=\"3bd8d137-4ced-4ade-99b1-95d24bc13a2b\" style=\"height: 525px; width: 100%;\" class=\"plotly-graph-div\"></div><script type=\"text/javascript\">require([\"plotly\"], function(Plotly) { window.PLOTLYENV=window.PLOTLYENV || {};window.PLOTLYENV.BASE_URL=\"https://plot.ly\";Plotly.newPlot(\"3bd8d137-4ced-4ade-99b1-95d24bc13a2b\", [{\"type\": \"candlestick\", \"x\": [\"2017-11-27 02:31:57.591029\", \"2017-11-27 02:32:57.591029\", \"2017-11-27 02:33:57.591029\", \"2017-11-27 02:34:57.591029\"], \"open\": [30001.0, 30001.0, 29753.0, 29752.0], \"high\": [30001.0, 30001.0, 30001.0, 30001.0], \"low\": [30001.0, 29753.0, 29751.0, 29748.0], \"close\": [30001.0, 29753.0, 29752.0, 29749.0]}], {}, {\"showLink\": true, \"linkText\": \"Export to plot.ly\"})});</script>"
      ],
      "text/vnd.plotly.v1+html": [
       "<div id=\"3bd8d137-4ced-4ade-99b1-95d24bc13a2b\" style=\"height: 525px; width: 100%;\" class=\"plotly-graph-div\"></div><script type=\"text/javascript\">require([\"plotly\"], function(Plotly) { window.PLOTLYENV=window.PLOTLYENV || {};window.PLOTLYENV.BASE_URL=\"https://plot.ly\";Plotly.newPlot(\"3bd8d137-4ced-4ade-99b1-95d24bc13a2b\", [{\"type\": \"candlestick\", \"x\": [\"2017-11-27 02:31:57.591029\", \"2017-11-27 02:32:57.591029\", \"2017-11-27 02:33:57.591029\", \"2017-11-27 02:34:57.591029\"], \"open\": [30001.0, 30001.0, 29753.0, 29752.0], \"high\": [30001.0, 30001.0, 30001.0, 30001.0], \"low\": [30001.0, 29753.0, 29751.0, 29748.0], \"close\": [30001.0, 29753.0, 29752.0, 29749.0]}], {}, {\"showLink\": true, \"linkText\": \"Export to plot.ly\"})});</script>"
      ]
     },
     "metadata": {},
     "output_type": "display_data"
    }
   ],
   "source": [
    "trade_list = x.get_live_trade_data()\n",
    "x.update_candle_data(trade_list)\n",
    "x.get_candle_plot()"
   ]
  },
  {
   "cell_type": "code",
   "execution_count": 5,
   "metadata": {},
   "outputs": [
    {
     "data": {
      "application/vnd.plotly.v1+json": {
       "data": [
        {
         "close": [
          29999
         ],
         "high": [
          30004
         ],
         "low": [
          29976
         ],
         "open": [
          29998
         ],
         "type": "candlestick",
         "x": [
          "2017-11-26 17:14:28.086083"
         ]
        }
       ],
       "layout": {}
      },
      "text/html": [
       "<div id=\"00b16748-5272-4026-95c7-352290fc5a4f\" style=\"height: 525px; width: 100%;\" class=\"plotly-graph-div\"></div><script type=\"text/javascript\">require([\"plotly\"], function(Plotly) { window.PLOTLYENV=window.PLOTLYENV || {};window.PLOTLYENV.BASE_URL=\"https://plot.ly\";Plotly.newPlot(\"00b16748-5272-4026-95c7-352290fc5a4f\", [{\"type\": \"candlestick\", \"x\": [\"2017-11-26 17:14:28.086083\"], \"open\": [29998.0], \"high\": [30004.0], \"low\": [29976.0], \"close\": [29999.0]}], {}, {\"showLink\": true, \"linkText\": \"Export to plot.ly\"})});</script>"
      ],
      "text/vnd.plotly.v1+html": [
       "<div id=\"00b16748-5272-4026-95c7-352290fc5a4f\" style=\"height: 525px; width: 100%;\" class=\"plotly-graph-div\"></div><script type=\"text/javascript\">require([\"plotly\"], function(Plotly) { window.PLOTLYENV=window.PLOTLYENV || {};window.PLOTLYENV.BASE_URL=\"https://plot.ly\";Plotly.newPlot(\"00b16748-5272-4026-95c7-352290fc5a4f\", [{\"type\": \"candlestick\", \"x\": [\"2017-11-26 17:14:28.086083\"], \"open\": [29998.0], \"high\": [30004.0], \"low\": [29976.0], \"close\": [29999.0]}], {}, {\"showLink\": true, \"linkText\": \"Export to plot.ly\"})});</script>"
      ]
     },
     "metadata": {},
     "output_type": "display_data"
    },
    {
     "name": "stdout",
     "output_type": "stream",
     "text": [
      "Trade(time='1:14:46', price=29995, change=-4, precentage_change=1, single_volumn=1, total_volumn=100)\n"
     ]
    },
    {
     "ename": "KeyboardInterrupt",
     "evalue": "",
     "output_type": "error",
     "traceback": [
      "\u001b[0;31m-------------------------------------------------------------\u001b[0m",
      "\u001b[0;31mKeyboardInterrupt\u001b[0m           Traceback (most recent call last)",
      "\u001b[0;32m<ipython-input-5-3cb6f91a683f>\u001b[0m in \u001b[0;36m<module>\u001b[0;34m()\u001b[0m\n\u001b[1;32m      2\u001b[0m \u001b[0;32mfor\u001b[0m \u001b[0m_\u001b[0m \u001b[0;32min\u001b[0m \u001b[0mrange\u001b[0m\u001b[0;34m(\u001b[0m\u001b[0;36m1000\u001b[0m\u001b[0;34m)\u001b[0m\u001b[0;34m:\u001b[0m\u001b[0;34m\u001b[0m\u001b[0m\n\u001b[1;32m      3\u001b[0m     \u001b[0minteract\u001b[0m\u001b[0;34m(\u001b[0m\u001b[0mx\u001b[0m\u001b[0;34m.\u001b[0m\u001b[0mget_candle_plot\u001b[0m\u001b[0;34m)\u001b[0m\u001b[0;34m\u001b[0m\u001b[0m\n\u001b[0;32m----> 4\u001b[0;31m     \u001b[0mtrade_list\u001b[0m \u001b[0;34m=\u001b[0m \u001b[0msimulate_trade\u001b[0m\u001b[0;34m(\u001b[0m\u001b[0;34m)\u001b[0m\u001b[0;34m\u001b[0m\u001b[0m\n\u001b[0m\u001b[1;32m      5\u001b[0m     \u001b[0mx\u001b[0m\u001b[0;34m.\u001b[0m\u001b[0mupdate_candle_data\u001b[0m\u001b[0;34m(\u001b[0m\u001b[0mtrade_list\u001b[0m\u001b[0;34m)\u001b[0m\u001b[0;34m\u001b[0m\u001b[0m\n",
      "\u001b[0;32m<ipython-input-2-f9ee70f81e29>\u001b[0m in \u001b[0;36msimulate_trade\u001b[0;34m()\u001b[0m\n\u001b[1;32m     12\u001b[0m         \u001b[0mtrade\u001b[0m \u001b[0;34m=\u001b[0m \u001b[0mTrade\u001b[0m\u001b[0;34m(\u001b[0m\u001b[0mtrade_time\u001b[0m\u001b[0;34m,\u001b[0m \u001b[0mtrade_price\u001b[0m\u001b[0;34m,\u001b[0m \u001b[0mtrade_change\u001b[0m\u001b[0;34m,\u001b[0m \u001b[0;36m1\u001b[0m\u001b[0;34m,\u001b[0m \u001b[0;36m1\u001b[0m\u001b[0;34m,\u001b[0m \u001b[0;36m100\u001b[0m\u001b[0;34m)\u001b[0m\u001b[0;34m\u001b[0m\u001b[0m\n\u001b[1;32m     13\u001b[0m         \u001b[0mtrade_list\u001b[0m\u001b[0;34m.\u001b[0m\u001b[0mappend\u001b[0m\u001b[0;34m(\u001b[0m\u001b[0mtrade\u001b[0m\u001b[0;34m)\u001b[0m\u001b[0;34m\u001b[0m\u001b[0m\n\u001b[0;32m---> 14\u001b[0;31m         \u001b[0mtime\u001b[0m\u001b[0;34m.\u001b[0m\u001b[0msleep\u001b[0m\u001b[0;34m(\u001b[0m\u001b[0;36m0.5\u001b[0m\u001b[0;34m)\u001b[0m\u001b[0;34m\u001b[0m\u001b[0m\n\u001b[0m\u001b[1;32m     15\u001b[0m         \u001b[0mprint\u001b[0m\u001b[0;34m(\u001b[0m\u001b[0mtrade\u001b[0m\u001b[0;34m)\u001b[0m\u001b[0;34m\u001b[0m\u001b[0m\n\u001b[1;32m     16\u001b[0m     \u001b[0;32mreturn\u001b[0m \u001b[0mtrade_list\u001b[0m\u001b[0;34m\u001b[0m\u001b[0m\n",
      "\u001b[0;31mKeyboardInterrupt\u001b[0m: "
     ]
    }
   ],
   "source": [
    "x = Stock()\n",
    "for _ in range(1000):\n",
    "    interact(x.get_candle_plot)\n",
    "    trade_list = simulate_trade()\n",
    "    x.update_candle_data(trade_list)"
   ]
  },
  {
   "cell_type": "code",
   "execution_count": 4,
   "metadata": {},
   "outputs": [],
   "source": [
    "def plot_candle(stock, delay=1):\n",
    "    while True:\n",
    "        interact(stock.get_candle_plot)\n",
    "        time.sleep(delay)\n",
    "\n",
    "def update_data(stock, simulation=False):\n",
    "    while True:\n",
    "        if simulation:\n",
    "            trade_list = simulate_trade()\n",
    "        else:\n",
    "            trade_list = stock.get_live_trade_data()\n",
    "        stock.update_candle_data(trade_list)"
   ]
  },
  {
   "cell_type": "code",
   "execution_count": null,
   "metadata": {},
   "outputs": [],
   "source": [
    "if __name__ == '__main__':\n",
    "    stock = Stock()\n",
    "    t1 = Thread(target=plot_candle, kwargs={'stock': stock}).start()\n",
    "    t2 = Thread(target=update_data, args=[stock, True])\n",
    "    t2.start()\n",
    "    t1.start()"
   ]
  },
  {
   "cell_type": "code",
   "execution_count": null,
   "metadata": {},
   "outputs": [],
   "source": [
    "from datetime import datetime\n",
    "\n",
    "open_data = [33.0, 33.3, 33.5, 33.0, 34.1]\n",
    "high_data = [33.1, 33.3, 33.6, 33.2, 34.8]\n",
    "low_data = [32.7, 32.7, 32.8, 32.6, 32.8]\n",
    "close_data = [33.0, 32.9, 33.3, 33.1, 33.1]\n",
    "dates = [datetime(year=2013, month=10, day=10),\n",
    "         datetime(year=2013, month=11, day=10),\n",
    "         datetime(year=2013, month=12, day=10),\n",
    "         datetime(year=2014, month=1, day=10),\n",
    "         datetime(year=2014, month=2, day=10)]\n",
    "\n",
    "trace = go.Candlestick(x=dates,\n",
    "                       open=open_data,\n",
    "                       high=high_data,\n",
    "                       low=low_data,\n",
    "                       close=close_data)\n",
    "data = [trace]\n",
    "iplot(data)"
   ]
  },
  {
   "cell_type": "code",
   "execution_count": null,
   "metadata": {},
   "outputs": [],
   "source": [
    "print(\"Opening Browser...\")\n",
    "driver = webdriver.Chrome() # using Chrome to fetch data\n",
    "print(\"Connecting to http://m.3x.com.tw/app_future.php\")\n",
    "driver.get(\"http://m.3x.com.tw/app_future.php\") # data source\n",
    "\n",
    "Trade = namedtuple('Trade', ['time', 'price', 'change', 'precentage_change', 'single_volumn', 'total_volumn'])\n",
    "trades = deque(maxlen=30) # keep track of the latest 50 trades on the webpage\n",
    "\n",
    "\n",
    "# define the data source to extract:\n",
    "# detail_ul_0 to detail_ul_10: the latest data\n",
    "id_list = ['detail_ul_{}'.format(i) for i in range(11)]\n",
    "break_flat = False\n",
    "sleep_interval = 0.1\n",
    "print(\"Start fetching data...\")\n",
    "print(\"=\"*30)\n",
    "for _ in range(int(1000)):\n",
    "    # extract trade record\n",
    "    break_flat = False\n",
    "    for id_tag in id_list:  \n",
    "        start_time = time.time()\n",
    "        targets = driver.find_elements_by_id(id_tag)\n",
    "#         print(\"Time used to find targets:\", time.time() - start_time)\n",
    "        for data in targets:\n",
    "            start_time = time.time()\n",
    "            items = data.find_elements_by_tag_name(\"li\")\n",
    "#             print(\"Time used to find items:\", time.time() - start_time)\n",
    "            try:\n",
    "                start_time = time.time()\n",
    "                # extract the trade record\n",
    "                trade = Trade(*[item.text for item in items])\n",
    "#                 print(\"Time used to process the trade:\", time.time() - start_time)\n",
    "\n",
    "                # if the trade is not in the trade lists, append it and print it out\n",
    "                if trade not in list(trades):\n",
    "                    trades.append(trade)\n",
    "                    print(\"時間: {}, 現價: {}, 漲跌: {}, %: {}, 單量: {}, 總量: {}\".format(\n",
    "                        trade.time,\n",
    "                        trade.price,\n",
    "                        trade.change,\n",
    "                        trade.precentage_change,\n",
    "                        trade.single_volumn,\n",
    "                        trade.total_volumn\n",
    "                    ))\n",
    "                else:\n",
    "                    break_flat = True\n",
    "                    break\n",
    "            except:\n",
    "                continue\n",
    "        if break_flat:\n",
    "            break\n",
    "\n",
    "driver.close()"
   ]
  },
  {
   "cell_type": "code",
   "execution_count": null,
   "metadata": {
    "collapsed": true
   },
   "outputs": [],
   "source": []
  },
  {
   "cell_type": "code",
   "execution_count": null,
   "metadata": {
    "collapsed": true
   },
   "outputs": [],
   "source": [
    "print(\"Opening Browser...\")\n",
    "driver = webdriver.Chrome() # using Chrome to fetch data\n",
    "print(\"Connecting to http://m.3x.com.tw/app_future.php\")\n",
    "driver.get(\"http://m.3x.com.tw/app_future.php\") # data source\n",
    "\n",
    "Trade = namedtuple('Trade', ['time', 'price', 'change', 'precentage_change', 'single_volumn', 'total_volumn'])\n",
    "trades = deque(maxlen=30) # keep track of the latest 50 trades on the webpage\n",
    "\n",
    "\n",
    "# define the data source to extract:\n",
    "# detail_ul_0 to detail_ul_10: the latest data\n",
    "sleep_interval = 0.1\n",
    "print(\"Start fetching data...\")\n",
    "print(\"=\"*30)\n",
    "for _ in range(int(100/sleep_interval)): # run for 60s\n",
    "    # extract trade record\n",
    "    start_time = time.time()\n",
    "    targets = driver.find_elements_by_css_selector('ul[id*=detail_ul]')\n",
    "    print(\"Time used to find targets:\", time.time() - start_time)\n",
    "    for data in targets:\n",
    "        items = data.find_elements_by_tag_name(\"li\")\n",
    "        try:\n",
    "            start_time = time.time()\n",
    "            _ = [item.text for item in items]\n",
    "            # extract the trade record\n",
    "            trade = Trade(*[item.text for item in items])\n",
    "            header = (trade.time, )\n",
    "            \n",
    "            # if the trade is not in the trade lists, append it and print it out\n",
    "            if trade not in list(trades):\n",
    "                trades.append(trade)\n",
    "                print(\"時間: {}, 現價: {}, 漲跌: {}, %: {}, 單量: {}, 總量: {}\".format(\n",
    "                    trade.time,\n",
    "                    trade.price,\n",
    "                    trade.change,\n",
    "                    trade.precentage_change,\n",
    "                    trade.single_volumn,\n",
    "                    trade.total_volumn\n",
    "                ))\n",
    "        except:\n",
    "            continue\n",
    "\n",
    "    time.sleep(sleep_interval) # sleep for 0.1s\n",
    "\n",
    "driver.close()"
   ]
  },
  {
   "cell_type": "markdown",
   "metadata": {},
   "source": [
    "# Listen some information from websocket"
   ]
  },
  {
   "cell_type": "code",
   "execution_count": null,
   "metadata": {
    "collapsed": true
   },
   "outputs": [],
   "source": [
    "import websocket\n",
    "import _thread\n",
    "import time\n",
    "import json"
   ]
  },
  {
   "cell_type": "code",
   "execution_count": null,
   "metadata": {
    "collapsed": true
   },
   "outputs": [],
   "source": [
    "def on_message(ws, message):\n",
    "    global prev_price, prev_volumn\n",
    "    # example: HSIX|00:59:58|29344|29339|29341|11570| (idx, time, highest price, ?, current_price, volume)\n",
    "    print(message)\n",
    "    message_json = json.loads(message)\n",
    "    if \"d\" in message_json:\n",
    "        data = message_json[\"d\"].split('|')\n",
    "        product_name = data[0]\n",
    "        if product_name == 'HSIX':\n",
    "            idx = data[0]\n",
    "            time = data[1]\n",
    "            highest_price = float(data[2])\n",
    "            current_price = float(data[4])\n",
    "            total_volumn = float(data[5])\n",
    "            single_volumn = total_volumn - prev_volumn\n",
    "            print(\"=\"*30)\n",
    "            print(\"HSIX detected.\")\n",
    "            print('產品代號: {}, 時間: {}, 現價: {}, 單量: {}, 總量: {}'.format(\n",
    "                idx,\n",
    "                time,\n",
    "                current_price,\n",
    "                single_volumn,\n",
    "                total_volumn,\n",
    "            ))\n",
    "            \n",
    "            # update previous\n",
    "            prev_price = current_price\n",
    "            prev_volumn = current_volumn\n",
    "            \n",
    "def on_error(ws, error):\n",
    "    print(error)\n",
    "\n",
    "def on_close(ws):\n",
    "    print(\"### closed ###\")\n",
    "\n",
    "def on_open(ws):\n",
    "    def run(*args):\n",
    "        for i in range(30000):\n",
    "            time.sleep(0.05)\n",
    "        time.sleep(1)\n",
    "        ws.close()\n",
    "        print(\"thread terminating...\")\n",
    "    _thread.start_new_thread(run, ())"
   ]
  },
  {
   "cell_type": "code",
   "execution_count": null,
   "metadata": {
    "collapsed": true
   },
   "outputs": [],
   "source": [
    "websocket.enableTrace(True)\n",
    "ws = websocket.WebSocketApp(\"ws://m.3x.com.tw:5490\",\n",
    "                            on_message = on_message,\n",
    "                            on_error = on_error,\n",
    "                            on_close = on_close)\n",
    "ws.on_open = on_open\n",
    "ws.run_forever()"
   ]
  },
  {
   "cell_type": "markdown",
   "metadata": {},
   "source": [
    "# Testing"
   ]
  },
  {
   "cell_type": "code",
   "execution_count": null,
   "metadata": {
    "collapsed": true
   },
   "outputs": [],
   "source": [
    "from bs4 import BeautifulSoup\n",
    "from selenium import webdriver"
   ]
  },
  {
   "cell_type": "code",
   "execution_count": null,
   "metadata": {
    "collapsed": true
   },
   "outputs": [],
   "source": [
    "import os\n",
    "import urllib\n",
    "import datetime\n",
    "from bs4 import BeautifulSoup\n",
    "import time\n",
    "\n",
    "\n",
    "def soup():\n",
    "    url = \"http://m.3x.com.tw/app_future.php\"\n",
    "    req = urllib.request.Request(\n",
    "    url,\n",
    "    data=None,\n",
    "    headers={\n",
    "        'User-Agent': 'Mozilla/5.0 (Macintosh; Intel Mac OS X 10_13_1) AppleWebKit/537.36 (KHTML, like Gecko) Chrome/61.0.3163.100 Safari/537.36',\n",
    "        'Connection': 'keep-alive',\n",
    "        'Host': 'm.3x.com.tw',\n",
    "        'Cookie': 'PHPSESSID=af0umr6rekp5l2m3tv3jvlme60; _gat=1; _ga=GA1.3.1833497169.1511192942; _gid=GA1.3.1126247127.1511192942',\n",
    "        'Upgrade-Insecure-Requests': 1,\n",
    "        }\n",
    "    )\n",
    "    global Ltp\n",
    "    global html\n",
    "    while True:\n",
    "        html = urllib.request.urlopen(req, timeout=10)\n",
    "        ok = html.read().decode('utf-8')\n",
    "        bsobj = BeautifulSoup(ok)\n",
    "        \n",
    "        print(bsobj)\n",
    "        break\n",
    "        \n",
    "        Ltp = bsobj.find(\"ul\", {\"id\":\"detail_ul_0\"})\n",
    "        Ltp = (Ltp.text)\n",
    "        Ltp = Ltp.replace(',' , '');\n",
    "        os.system('cls')\n",
    "        Ltp = float(Ltp)\n",
    "        print (Ltp, datetime.datetime.now())\n",
    "        time.sleep(3)\n",
    "\n",
    "soup()"
   ]
  },
  {
   "cell_type": "code",
   "execution_count": null,
   "metadata": {
    "collapsed": true
   },
   "outputs": [],
   "source": [
    "import os\n",
    "import urllib\n",
    "import datetime\n",
    "from bs4 import BeautifulSoup\n",
    "import time\n",
    "\n",
    "\n",
    "def soup():\n",
    "    url = \"http://www.investing.com/indices/major-indices\"\n",
    "    req = urllib.request.Request(\n",
    "    url,\n",
    "    data=None,\n",
    "    headers={\n",
    "        'User-Agent': 'Mozilla/5.0 (Macintosh; Intel Mac OS X 10_9_3) AppleWebKit/537.36 (KHTML, like Gecko) Chrome/35.0.1916.47 Safari/537.36',\n",
    "        'Connection': 'keep-alive'    }\n",
    "           )\n",
    "    global Ltp\n",
    "    global html\n",
    "    while True:\n",
    "        html = urllib.request.urlopen(req)\n",
    "        ok = html.read().decode('utf-8')\n",
    "        bsobj = BeautifulSoup(ok, \"lxml\")\n",
    "        \n",
    "        print(bsobj)\n",
    "        break\n",
    "        Ltp = bsobj.find(\"td\", {\"class\":\"pid-169-last\"} )\n",
    "        Ltp = (Ltp.text)\n",
    "        Ltp = Ltp.replace(',' , '');\n",
    "        os.system('cls')\n",
    "        Ltp = float(Ltp)\n",
    "        print (Ltp, datetime.datetime.now())\n",
    "        time.sleep(3)\n",
    "\n",
    "soup()"
   ]
  },
  {
   "cell_type": "markdown",
   "metadata": {
    "collapsed": true
   },
   "source": [
    "# Trying plotly"
   ]
  },
  {
   "cell_type": "code",
   "execution_count": null,
   "metadata": {},
   "outputs": [],
   "source": [
    "from plotly import __version__\n",
    "from plotly.offline import download_plotlyjs, init_notebook_mode, plot, iplot\n",
    "\n",
    "print(__version__)\n",
    "init_notebook_mode(connected=True)"
   ]
  },
  {
   "cell_type": "code",
   "execution_count": null,
   "metadata": {},
   "outputs": [],
   "source": [
    "import plotly.graph_objs as go\n",
    "from IPython.html.widgets import interact\n",
    "\n",
    "def view_image(noise):\n",
    "    x_data = [1,2,3]\n",
    "    y1_data = [3+noise, 1-noise, 6]\n",
    "    y2_data = [1, 2, noise]\n",
    "    fig1 = go.Scatter(x=x_data, y=y1_data)\n",
    "    fig2 = go.Scatter(x=x_data, y=y2_data)\n",
    "    iplot([fig1, fig2])\n",
    "for i in range(10):\n",
    "    interact(view_image, noise=i)\n",
    "    time.sleep(1)"
   ]
  },
  {
   "cell_type": "code",
   "execution_count": null,
   "metadata": {
    "collapsed": true
   },
   "outputs": [],
   "source": []
  }
 ],
 "metadata": {
  "kernelspec": {
   "display_name": "Python 3",
   "language": "python",
   "name": "python3"
  },
  "language_info": {
   "codemirror_mode": {
    "name": "ipython",
    "version": 3
   },
   "file_extension": ".py",
   "mimetype": "text/x-python",
   "name": "python",
   "nbconvert_exporter": "python",
   "pygments_lexer": "ipython3",
   "version": "3.6.2"
  }
 },
 "nbformat": 4,
 "nbformat_minor": 2
}
