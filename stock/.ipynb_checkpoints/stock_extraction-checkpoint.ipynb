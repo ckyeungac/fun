{
 "cells": [
  {
   "cell_type": "markdown",
   "metadata": {},
   "source": [
    "# Extract Stock Information using Selenium"
   ]
  },
  {
   "cell_type": "code",
   "execution_count": null,
   "metadata": {},
   "outputs": [
    {
     "name": "stdout",
     "output_type": "stream",
     "text": [
      "時間: 09:56:35, 現價: 29403, 漲跌: 205, %: 0.70, 單量: 9, 總量: 32580\n",
      "時間: 09:56:38, 現價: 29400, 漲跌: 202, %: 0.69, 單量: 70, 總量: 32699\n",
      "時間: 09:56:39, 現價: 29398, 漲跌: 200, %: 0.68, 單量: 42, 總量: 32741\n",
      "時間: 09:56:41, 現價: 29399, 漲跌: 201, %: 0.69, 單量: 1, 總量: 32764\n",
      "時間: 09:56:42, 現價: 29396, 漲跌: 198, %: 0.68, 單量: 1, 總量: 32805\n",
      "時間: 09:56:43, 現價: 29388, 漲跌: 190, %: 0.65, 單量: 3, 總量: 32913\n",
      "時間: 09:56:45, 現價: 29392, 漲跌: 194, %: 0.66, 單量: 33, 總量: 33037\n",
      "時間: 09:56:46, 現價: 29391, 漲跌: 193, %: 0.66, 單量: 40, 總量: 33077\n"
     ]
    }
   ],
   "source": [
    "from selenium import webdriver\n",
    "import time\n",
    "import sys, os\n",
    "\n",
    "# adding current directory into environment path\n",
    "os.environ[\"PATH\"] += os.pathsep + './'\n",
    "\n",
    "driver = webdriver.Chrome() # using Chrome to fetch data\n",
    "driver.get(\"http://m.3x.com.tw/app_future.php\") # data source\n",
    "\n",
    "prev_data = None\n",
    "prev_time = None\n",
    "curr_time = None\n",
    "curr_price = None\n",
    "up_down = None\n",
    "precentage = None\n",
    "single_volumn = None\n",
    "total_volumn = None\n",
    "while True:\n",
    "    # detail_ul_0: the latest data\n",
    "    for data in driver.find_elements_by_id('detail_ul_0'):\n",
    "        items = data.find_elements_by_tag_name(\"li\")\n",
    "        try:\n",
    "            curr_data = tuple([item.text for item in items])\n",
    "            (curr_time, curr_price, up_down, precentage, single_volumn, total_volumn) = curr_data\n",
    "            if prev_data != curr_data:\n",
    "                print(\"時間: {}, 現價: {}, 漲跌: {}, %: {}, 單量: {}, 總量: {}\".format(\n",
    "                    curr_time,\n",
    "                    curr_price,\n",
    "                    up_down,\n",
    "                    precentage,\n",
    "                    single_volumn,\n",
    "                    total_volumn\n",
    "                ))\n",
    "        except:\n",
    "            pass\n",
    "            \n",
    "    # wait for 1s to scrape the browser data\n",
    "    time.sleep(0.1)\n",
    "\n",
    "driver.close()"
   ]
  },
  {
   "cell_type": "markdown",
   "metadata": {},
   "source": [
    "# Listen data from websocket"
   ]
  },
  {
   "cell_type": "code",
   "execution_count": 3,
   "metadata": {},
   "outputs": [],
   "source": [
    "import websocket\n",
    "import _thread\n",
    "import time\n",
    "import json"
   ]
  },
  {
   "cell_type": "code",
   "execution_count": 6,
   "metadata": {},
   "outputs": [],
   "source": [
    "def on_message(ws, message):\n",
    "    global prev_price, prev_volumn\n",
    "    # example: HSIX|00:59:58|29344|29339|29341|11570| (idx, time, highest price, ?, current_price, volume)\n",
    "    print(message)\n",
    "    message_json = json.loads(message)\n",
    "    if \"d\" in message_json:\n",
    "        data = message_json[\"d\"].split('|')\n",
    "        product_name = data[0]\n",
    "        if product_name == 'HSIX':\n",
    "            idx = data[0]\n",
    "            time = data[1]\n",
    "            highest_price = float(data[2])\n",
    "            current_price = float(data[4])\n",
    "            total_volumn = float(data[5])\n",
    "            single_volumn = total_volumn - prev_volumn\n",
    "            print(\"=\"*30)\n",
    "            print(\"HSIX detected.\")\n",
    "            print('產品代號: {}, 時間: {}, 現價: {}, 單量: {}, 總量: {}'.format(\n",
    "                idx,\n",
    "                time,\n",
    "                current_price,\n",
    "                single_volumn,\n",
    "                total_volumn,\n",
    "            ))\n",
    "            \n",
    "            # update previous\n",
    "            prev_price = current_price\n",
    "            prev_volumn = current_volumn\n",
    "            \n",
    "def on_error(ws, error):\n",
    "    print(error)\n",
    "\n",
    "def on_close(ws):\n",
    "    print(\"### closed ###\")\n",
    "\n",
    "def on_open(ws):\n",
    "    def run(*args):\n",
    "        for i in range(30000):\n",
    "            time.sleep(1)\n",
    "        time.sleep(1)\n",
    "        ws.close()\n",
    "        print(\"thread terminating...\")\n",
    "    _thread.start_new_thread(run, ())"
   ]
  },
  {
   "cell_type": "code",
   "execution_count": 7,
   "metadata": {},
   "outputs": [
    {
     "name": "stderr",
     "output_type": "stream",
     "text": [
      "--- request header ---\n",
      "GET / HTTP/1.1\n",
      "Upgrade: websocket\n",
      "Connection: Upgrade\n",
      "Host: m.3x.com.tw:5490\n",
      "Origin: http://m.3x.com.tw:5490\n",
      "Sec-WebSocket-Key: O57h8mVK0re8HW+HbcxD2w==\n",
      "Sec-WebSocket-Version: 13\n",
      "\n",
      "\n",
      "-----------------------\n",
      "--- response header ---\n",
      "HTTP/1.1 101 Switching Protocols\n",
      "Connection: Upgrade\n",
      "Sec-WebSocket-Accept: lm1xG1yih9juO/vntYg9s9sg920=\n",
      "Upgrade: websocket\n",
      "-----------------------\n"
     ]
    },
    {
     "name": "stdout",
     "output_type": "stream",
     "text": [
      "{\"d\":\"HSI|29466040|29260310|29509760|29343480@\",\"t\":\"GIN\"}\n",
      "{\"d\":\"NKI|2250585|2226176|2256325|2242669@\",\"t\":\"GIN\"}\n",
      "{\"d\":\"KOR|253528|252767|253710|252596@\",\"t\":\"GIN\"}\n",
      "{\"d\":\"YDX|940790|940560|940890|939990@\",\"t\":\"GIN\"}\n",
      "{\"d\":\"SHI|3400380|3392400|3400490|3377860@\",\"t\":\"GIN\"}\n",
      "{\"d\":\"HSC|11666920|11538280|11676070|11567030@\",\"t\":\"GIN\"}\n",
      "{\"d\":\"SHSZ300|4173030|4143830|4173050|4129980@\",\"t\":\"GIN\"}\n",
      "{\"d\":\"HSI|29465120|29260310|29509760|29343480@\",\"t\":\"GIN\"}\n",
      "{\"d\":\"NKI|2250519|2226176|2256325|2242669@\",\"t\":\"GIN\"}\n",
      "{\"d\":\"KOR|253570|252767|253710|252596@\",\"t\":\"GIN\"}\n",
      "{\"d\":\"YDX|940790|940560|940890|939990@\",\"t\":\"GIN\"}\n",
      "{\"d\":\"SHI|3400550|3392400|3400550|3377860@\",\"t\":\"GIN\"}\n",
      "{\"d\":\"HSC|11668870|11538280|11676070|11567030@\",\"t\":\"GIN\"}\n",
      "{\"d\":\"SHSZ300|4173240|4143830|4173310|4129980@\",\"t\":\"GIN\"}\n",
      "{\"d\":\"HSI|29457040|29260310|29509760|29343480@\",\"t\":\"GIN\"}\n",
      "{\"d\":\"NKI|2250547|2226176|2256325|2242669@\",\"t\":\"GIN\"}\n",
      "{\"d\":\"KOR|253512|252767|253710|252596@\",\"t\":\"GIN\"}\n",
      "{\"d\":\"YDX|940850|940560|940890|939990@\",\"t\":\"GIN\"}\n",
      "{\"d\":\"SHI|3400390|3392400|3400550|3377860@\",\"t\":\"GIN\"}\n",
      "{\"d\":\"HSC|11672220|11538280|11676070|11567030@\",\"t\":\"GIN\"}\n",
      "{\"d\":\"SHSZ300|4173510|4143830|4173510|4129980@\",\"t\":\"GIN\"}\n",
      "{\"d\":\"HSI|29454840|29260310|29509760|29343480@\",\"t\":\"GIN\"}\n",
      "{\"d\":\"NKI|2250716|2226176|2256325|2242669@\",\"t\":\"GIN\"}\n",
      "{\"d\":\"KOR|253550|252767|253710|252596@\",\"t\":\"GIN\"}\n",
      "{\"d\":\"YDX|940840|940560|940890|939990@\",\"t\":\"GIN\"}\n",
      "{\"d\":\"SHI|3400290|3392400|3400550|3377860@\",\"t\":\"GIN\"}\n",
      "{\"d\":\"HSC|11667730|11538280|11676070|11567030@\",\"t\":\"GIN\"}\n",
      "{\"d\":\"SHSZ300|4173340|4143830|4173550|4129980@\",\"t\":\"GIN\"}\n",
      "{\"d\":\"HSI|29459760|29260310|29509760|29343480@\",\"t\":\"GIN\"}\n",
      "{\"d\":\"NKI|2250499|2226176|2256325|2242669@\",\"t\":\"GIN\"}\n",
      "{\"d\":\"KOR|253473|252767|253710|252596@\",\"t\":\"GIN\"}\n",
      "{\"d\":\"YDX|940800|940560|940890|939990@\",\"t\":\"GIN\"}\n",
      "{\"d\":\"SHI|3400130|3392400|3400550|3377860@\",\"t\":\"GIN\"}\n",
      "{\"d\":\"HSC|11667650|11538280|11676070|11567030@\",\"t\":\"GIN\"}\n",
      "{\"d\":\"SHSZ300|4173640|4143830|4173810|4129980@\",\"t\":\"GIN\"}\n",
      "{\"d\":\"HSI|29453050|29260310|29509760|29343480@\",\"t\":\"GIN\"}\n",
      "{\"d\":\"NKI|2250282|2226176|2256325|2242669@\",\"t\":\"GIN\"}\n",
      "{\"d\":\"KOR|253556|252767|253710|252596@\",\"t\":\"GIN\"}\n",
      "{\"d\":\"YDX|940770|940560|940890|939990@\",\"t\":\"GIN\"}\n",
      "{\"d\":\"SHI|3401010|3392400|3401010|3377860@\",\"t\":\"GIN\"}\n",
      "{\"d\":\"HSC|11670040|11538280|11676070|11567030@\",\"t\":\"GIN\"}\n",
      "{\"d\":\"SHSZ300|4174420|4143830|4174420|4129980@\",\"t\":\"GIN\"}\n",
      "{\"d\":\"HSI|29451870|29260310|29509760|29343480@\",\"t\":\"GIN\"}\n",
      "{\"d\":\"NKI|2250020|2226176|2256325|2242669@\",\"t\":\"GIN\"}\n",
      "{\"d\":\"KOR|253567|252767|253710|252596@\",\"t\":\"GIN\"}\n",
      "{\"d\":\"YDX|940780|940560|940890|939990@\",\"t\":\"GIN\"}\n",
      "{\"d\":\"SHI|3401000|3392400|3401010|3377860@\",\"t\":\"GIN\"}\n",
      "{\"d\":\"HSC|11664990|11538280|11676070|11567030@\",\"t\":\"GIN\"}\n",
      "{\"d\":\"SHSZ300|4174130|4143830|4174420|4129980@\",\"t\":\"GIN\"}\n"
     ]
    },
    {
     "name": "stderr",
     "output_type": "stream",
     "text": [
      "send: b'\\x88\\x82\\xdf]\\x96\\x99\\xdc\\xb5'\n"
     ]
    },
    {
     "name": "stdout",
     "output_type": "stream",
     "text": [
      "\n",
      "### closed ###\n"
     ]
    }
   ],
   "source": [
    "websocket.enableTrace(True)\n",
    "ws = websocket.WebSocketApp(\"ws://m.3x.com.tw:5490\",\n",
    "                            on_message = on_message,\n",
    "                            on_error = on_error,\n",
    "                            on_close = on_close)\n",
    "ws.on_open = on_open\n",
    "ws.run_forever()"
   ]
  },
  {
   "cell_type": "markdown",
   "metadata": {},
   "source": [
    "# Testing"
   ]
  },
  {
   "cell_type": "code",
   "execution_count": null,
   "metadata": {},
   "outputs": [],
   "source": [
    "from bs4 import BeautifulSoup\n",
    "from selenium import webdriver"
   ]
  },
  {
   "cell_type": "code",
   "execution_count": null,
   "metadata": {},
   "outputs": [],
   "source": [
    "import os\n",
    "import urllib\n",
    "import datetime\n",
    "from bs4 import BeautifulSoup\n",
    "import time\n",
    "\n",
    "\n",
    "def soup():\n",
    "    url = \"http://m.3x.com.tw/app_future.php\"\n",
    "    req = urllib.request.Request(\n",
    "    url,\n",
    "    data=None,\n",
    "    headers={\n",
    "        'User-Agent': 'Mozilla/5.0 (Macintosh; Intel Mac OS X 10_13_1) AppleWebKit/537.36 (KHTML, like Gecko) Chrome/61.0.3163.100 Safari/537.36',\n",
    "        'Connection': 'keep-alive',\n",
    "        'Host': 'm.3x.com.tw',\n",
    "        'Cookie': 'PHPSESSID=af0umr6rekp5l2m3tv3jvlme60; _gat=1; _ga=GA1.3.1833497169.1511192942; _gid=GA1.3.1126247127.1511192942',\n",
    "        'Upgrade-Insecure-Requests': 1,\n",
    "        }\n",
    "    )\n",
    "    global Ltp\n",
    "    global html\n",
    "    while True:\n",
    "        html = urllib.request.urlopen(req, timeout=10)\n",
    "        ok = html.read().decode('utf-8')\n",
    "        bsobj = BeautifulSoup(ok)\n",
    "        \n",
    "        print(bsobj)\n",
    "        break\n",
    "        \n",
    "        Ltp = bsobj.find(\"ul\", {\"id\":\"detail_ul_0\"})\n",
    "        Ltp = (Ltp.text)\n",
    "        Ltp = Ltp.replace(',' , '');\n",
    "        os.system('cls')\n",
    "        Ltp = float(Ltp)\n",
    "        print (Ltp, datetime.datetime.now())\n",
    "        time.sleep(3)\n",
    "\n",
    "soup()"
   ]
  },
  {
   "cell_type": "code",
   "execution_count": null,
   "metadata": {},
   "outputs": [],
   "source": [
    "import os\n",
    "import urllib\n",
    "import datetime\n",
    "from bs4 import BeautifulSoup\n",
    "import time\n",
    "\n",
    "\n",
    "def soup():\n",
    "    url = \"http://www.investing.com/indices/major-indices\"\n",
    "    req = urllib.request.Request(\n",
    "    url,\n",
    "    data=None,\n",
    "    headers={\n",
    "        'User-Agent': 'Mozilla/5.0 (Macintosh; Intel Mac OS X 10_9_3) AppleWebKit/537.36 (KHTML, like Gecko) Chrome/35.0.1916.47 Safari/537.36',\n",
    "        'Connection': 'keep-alive'    }\n",
    "           )\n",
    "    global Ltp\n",
    "    global html\n",
    "    while True:\n",
    "        html = urllib.request.urlopen(req)\n",
    "        ok = html.read().decode('utf-8')\n",
    "        bsobj = BeautifulSoup(ok, \"lxml\")\n",
    "        \n",
    "        print(bsobj)\n",
    "        break\n",
    "        Ltp = bsobj.find(\"td\", {\"class\":\"pid-169-last\"} )\n",
    "        Ltp = (Ltp.text)\n",
    "        Ltp = Ltp.replace(',' , '');\n",
    "        os.system('cls')\n",
    "        Ltp = float(Ltp)\n",
    "        print (Ltp, datetime.datetime.now())\n",
    "        time.sleep(3)\n",
    "\n",
    "soup()"
   ]
  },
  {
   "cell_type": "code",
   "execution_count": null,
   "metadata": {
    "collapsed": true
   },
   "outputs": [],
   "source": []
  }
 ],
 "metadata": {
  "kernelspec": {
   "display_name": "Python 3",
   "language": "python",
   "name": "python3"
  },
  "language_info": {
   "codemirror_mode": {
    "name": "ipython",
    "version": 3
   },
   "file_extension": ".py",
   "mimetype": "text/x-python",
   "name": "python",
   "nbconvert_exporter": "python",
   "pygments_lexer": "ipython3",
   "version": "3.6.2"
  }
 },
 "nbformat": 4,
 "nbformat_minor": 2
}
