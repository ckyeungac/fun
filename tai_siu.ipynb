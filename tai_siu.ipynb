{
 "cells": [
  {
   "cell_type": "code",
   "execution_count": 28,
   "metadata": {
    "collapsed": true
   },
   "outputs": [],
   "source": [
    "import numpy as np"
   ]
  },
  {
   "cell_type": "code",
   "execution_count": 29,
   "metadata": {},
   "outputs": [
    {
     "data": {
      "text/plain": [
       "0.6271541503028634"
      ]
     },
     "execution_count": 29,
     "metadata": {},
     "output_type": "execute_result"
    }
   ],
   "source": [
    "np.random.uniform(0, 1)"
   ]
  },
  {
   "cell_type": "code",
   "execution_count": 30,
   "metadata": {
    "collapsed": true
   },
   "outputs": [],
   "source": [
    "def dai_sui():\n",
    "    prob = np.random.uniform(0, 1)\n",
    "    if prob <= 0.4861:\n",
    "        return \"dai\"\n",
    "    elif 0.4861 < prob <= 1 - 0.0278:\n",
    "        return \"sui\"\n",
    "    else:\n",
    "        return \"other\"\n",
    "    return other"
   ]
  },
  {
   "cell_type": "code",
   "execution_count": 31,
   "metadata": {},
   "outputs": [],
   "source": [
    "def policy(bet=10, stop_profit=100, stop_loss=-1000, verbose=True):\n",
    "    min_bet_siu = 1\n",
    "    min_bet_tai = 1\n",
    "    current_bet_siu = 1\n",
    "    current_bet_tai = 1\n",
    "    \n",
    "    epochs = 0\n",
    "    equity = 0\n",
    "    while not (equity>=stop_profit or equity<=stop_loss):\n",
    "        epochs += 1\n",
    "        if verbose:\n",
    "            print(\"Round:\", epochs)\n",
    "            print(\"# bet siu: {}, # bet tai: {}\".format(current_bet_siu, current_bet_tai))\n",
    "        equity -= current_bet_siu * bet\n",
    "        equity -= current_bet_tai * bet\n",
    "        result = dai_sui()\n",
    "        # update policy according to result\n",
    "        if result == 'dai':\n",
    "            equity += current_bet_tai * bet * 2\n",
    "            if current_bet_tai != min_bet_tai:\n",
    "                current_bet_tai -= 1\n",
    "            current_bet_siu += 1\n",
    "        elif result == 'sui':\n",
    "            equity += current_bet_siu * bet * 2\n",
    "            if current_bet_siu != min_bet_siu:\n",
    "                current_bet_siu -= 1\n",
    "            current_bet_tai += 1\n",
    "        else:\n",
    "            current_bet_siu += 1\n",
    "            current_bet_tai += 1\n",
    "        \n",
    "        if verbose:\n",
    "            print(\"result: {}\\nequity: {}\".format(result, equity))\n",
    "            print(\"=\"*20)\n",
    "    return equity\n",
    "    "
   ]
  },
  {
   "cell_type": "code",
   "execution_count": 32,
   "metadata": {},
   "outputs": [
    {
     "name": "stdout",
     "output_type": "stream",
     "text": [
      "-87700.0\n"
     ]
    }
   ],
   "source": [
    "total_equity = 0.0\n",
    "for i in range(1000):\n",
    "    equity = policy(verbose=False)\n",
    "    total_equity += equity\n",
    "print(total_equity)"
   ]
  },
  {
   "cell_type": "code",
   "execution_count": null,
   "metadata": {
    "collapsed": true
   },
   "outputs": [],
   "source": []
  }
 ],
 "metadata": {
  "kernelspec": {
   "display_name": "Python 3",
   "language": "python",
   "name": "python3"
  },
  "language_info": {
   "codemirror_mode": {
    "name": "ipython",
    "version": 3
   },
   "file_extension": ".py",
   "mimetype": "text/x-python",
   "name": "python",
   "nbconvert_exporter": "python",
   "pygments_lexer": "ipython3",
   "version": "3.6.1"
  }
 },
 "nbformat": 4,
 "nbformat_minor": 2
}
